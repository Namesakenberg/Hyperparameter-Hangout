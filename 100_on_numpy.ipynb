{
  "nbformat": 4,
  "nbformat_minor": 0,
  "metadata": {
    "colab": {
      "provenance": [],
      "authorship_tag": "ABX9TyMhgygbD/CaI7dJdpdYsx06",
      "include_colab_link": true
    },
    "kernelspec": {
      "name": "python3",
      "display_name": "Python 3"
    },
    "language_info": {
      "name": "python"
    }
  },
  "cells": [
    {
      "cell_type": "markdown",
      "metadata": {
        "id": "view-in-github",
        "colab_type": "text"
      },
      "source": [
        "<a href=\"https://colab.research.google.com/github/Namesakenberg/Hyperparameter-Hangout/blob/main/100_on_numpy.ipynb\" target=\"_parent\"><img src=\"https://colab.research.google.com/assets/colab-badge.svg\" alt=\"Open In Colab\"/></a>"
      ]
    },
    {
      "cell_type": "code",
      "source": [
        "import numpy as np"
      ],
      "metadata": {
        "id": "-hTBUWT6QlG_"
      },
      "execution_count": null,
      "outputs": []
    },
    {
      "cell_type": "markdown",
      "source": [
        "3. Create a null vector of size 10 (★☆☆)\n"
      ],
      "metadata": {
        "id": "ioJZg499P9hq"
      }
    },
    {
      "cell_type": "code",
      "execution_count": null,
      "metadata": {
        "colab": {
          "base_uri": "https://localhost:8080/"
        },
        "id": "BJ6ulF-0OREd",
        "outputId": "6302755d-79c6-44c7-c1d2-94ed6145916e"
      },
      "outputs": [
        {
          "output_type": "execute_result",
          "data": {
            "text/plain": [
              "array([0., 0., 0., 0., 0., 0., 0., 0., 0., 0.])"
            ]
          },
          "metadata": {},
          "execution_count": 4
        }
      ],
      "source": [
        "np.zeros(10)"
      ]
    },
    {
      "cell_type": "markdown",
      "source": [
        "Create a null vector of size 10 but the fifth value which is 1 (★☆☆)"
      ],
      "metadata": {
        "id": "RPHSUcjiRLpa"
      }
    },
    {
      "cell_type": "code",
      "source": [
        "arr=np.zeros(10)\n",
        "arr[4]=1\n",
        "arr"
      ],
      "metadata": {
        "colab": {
          "base_uri": "https://localhost:8080/"
        },
        "id": "aQQOlDDFRLH2",
        "outputId": "24edb7e9-e23b-428b-9d5d-232ce35e5176"
      },
      "execution_count": null,
      "outputs": [
        {
          "output_type": "execute_result",
          "data": {
            "text/plain": [
              "array([0., 0., 0., 0., 1., 0., 0., 0., 0., 0.])"
            ]
          },
          "metadata": {},
          "execution_count": 6
        }
      ]
    },
    {
      "cell_type": "markdown",
      "source": [
        "Create a vector with values ranging from 10 to 49 (★☆☆)"
      ],
      "metadata": {
        "id": "KC0aK1LnRM61"
      }
    },
    {
      "cell_type": "code",
      "source": [
        "arr=np.arange(10,49)\n",
        "arr"
      ],
      "metadata": {
        "colab": {
          "base_uri": "https://localhost:8080/"
        },
        "id": "Q9inLCnGRSPo",
        "outputId": "dd0b93c8-a6cd-4f60-959a-440e61b534e3"
      },
      "execution_count": null,
      "outputs": [
        {
          "output_type": "execute_result",
          "data": {
            "text/plain": [
              "array([10, 11, 12, 13, 14, 15, 16, 17, 18, 19, 20, 21, 22, 23, 24, 25, 26,\n",
              "       27, 28, 29, 30, 31, 32, 33, 34, 35, 36, 37, 38, 39, 40, 41, 42, 43,\n",
              "       44, 45, 46, 47, 48])"
            ]
          },
          "metadata": {},
          "execution_count": 8
        }
      ]
    },
    {
      "cell_type": "markdown",
      "source": [
        ". Reverse a vector (first element becomes last) (★☆☆)\n"
      ],
      "metadata": {
        "id": "FKFdG6lbRR61"
      }
    },
    {
      "cell_type": "code",
      "source": [
        "np.flip(arr)"
      ],
      "metadata": {
        "colab": {
          "base_uri": "https://localhost:8080/"
        },
        "id": "BAgek3htRWjq",
        "outputId": "f5be348a-4576-4f81-eafa-1d295dd2bb10"
      },
      "execution_count": null,
      "outputs": [
        {
          "output_type": "execute_result",
          "data": {
            "text/plain": [
              "array([48, 47, 46, 45, 44, 43, 42, 41, 40, 39, 38, 37, 36, 35, 34, 33, 32,\n",
              "       31, 30, 29, 28, 27, 26, 25, 24, 23, 22, 21, 20, 19, 18, 17, 16, 15,\n",
              "       14, 13, 12, 11, 10])"
            ]
          },
          "metadata": {},
          "execution_count": 14
        }
      ]
    },
    {
      "cell_type": "markdown",
      "source": [
        "Create a 3x3 matrix with values ranging from 0 to 8 (★☆☆)"
      ],
      "metadata": {
        "id": "Bk68tDt7RZKN"
      }
    },
    {
      "cell_type": "code",
      "source": [
        "arr=np.arange(9).reshape(3,3)\n",
        "arr"
      ],
      "metadata": {
        "colab": {
          "base_uri": "https://localhost:8080/"
        },
        "id": "czSD46PtRaGu",
        "outputId": "02fd251e-c0a3-4d50-dd56-4bf8c0816fe4"
      },
      "execution_count": null,
      "outputs": [
        {
          "output_type": "execute_result",
          "data": {
            "text/plain": [
              "array([[0, 1, 2],\n",
              "       [3, 4, 5],\n",
              "       [6, 7, 8]])"
            ]
          },
          "metadata": {},
          "execution_count": 18
        }
      ]
    },
    {
      "cell_type": "markdown",
      "source": [
        "Find indices of non-zero elements from [1,2,0,0,4,0] (★☆☆)"
      ],
      "metadata": {
        "id": "xvnPS1J3RcRk"
      }
    },
    {
      "cell_type": "code",
      "source": [
        "arr=np.array([1,2,0,0,4,0])\n",
        "np.where(arr!=0)"
      ],
      "metadata": {
        "colab": {
          "base_uri": "https://localhost:8080/"
        },
        "id": "SsTn68TnRb8A",
        "outputId": "8b4583f1-9d5e-4bab-be91-9e2e9f2f3af8"
      },
      "execution_count": null,
      "outputs": [
        {
          "output_type": "execute_result",
          "data": {
            "text/plain": [
              "(array([0, 1, 4]),)"
            ]
          },
          "metadata": {},
          "execution_count": 23
        }
      ]
    },
    {
      "cell_type": "markdown",
      "source": [
        "Create a 3x3 identity matrix (★☆☆)"
      ],
      "metadata": {
        "id": "8ydP-znfRdby"
      }
    },
    {
      "cell_type": "code",
      "source": [
        "arr=np.identity(3)\n",
        "arr"
      ],
      "metadata": {
        "colab": {
          "base_uri": "https://localhost:8080/"
        },
        "id": "J5hhBQFsRc4r",
        "outputId": "61c05908-71df-4af8-8362-68e671cafbcd"
      },
      "execution_count": null,
      "outputs": [
        {
          "output_type": "execute_result",
          "data": {
            "text/plain": [
              "array([[1., 0., 0.],\n",
              "       [0., 1., 0.],\n",
              "       [0., 0., 1.]])"
            ]
          },
          "metadata": {},
          "execution_count": 53
        }
      ]
    },
    {
      "cell_type": "markdown",
      "source": [
        "Create a 3x3x3 array with random values (★☆☆)"
      ],
      "metadata": {
        "id": "WjaE8Ba2Rhql"
      }
    },
    {
      "cell_type": "code",
      "source": [
        "arr=np.random.randn(9).reshape(3,3)\n",
        "arr"
      ],
      "metadata": {
        "colab": {
          "base_uri": "https://localhost:8080/"
        },
        "id": "tbljz2bcRj4C",
        "outputId": "531091ce-f6ca-4e9b-fcdd-0fd3518c0e59"
      },
      "execution_count": null,
      "outputs": [
        {
          "output_type": "execute_result",
          "data": {
            "text/plain": [
              "array([[ 0.73635264, -0.34148341,  0.12673788],\n",
              "       [ 0.31469103, -2.23811736,  0.36396585],\n",
              "       [ 1.3650898 ,  0.45849448, -1.79097686]])"
            ]
          },
          "metadata": {},
          "execution_count": 28
        }
      ]
    },
    {
      "cell_type": "markdown",
      "source": [
        "13. Create a 10x10 array with random values and find the minimum and maximum values (★☆☆)\n"
      ],
      "metadata": {
        "id": "t6WIWNDVRnXr"
      }
    },
    {
      "cell_type": "code",
      "source": [
        "arr=np.random.rand(100).reshape(10,10)\n",
        "arr"
      ],
      "metadata": {
        "colab": {
          "base_uri": "https://localhost:8080/"
        },
        "id": "ndFFHIfGRoNm",
        "outputId": "d9e74a9f-9757-4a6d-9e8e-c0cfde88a6a5"
      },
      "execution_count": 58,
      "outputs": [
        {
          "output_type": "execute_result",
          "data": {
            "text/plain": [
              "array([[0.63075127, 0.66191332, 0.12023005, 0.10377386, 0.46578984,\n",
              "        0.15029503, 0.2392624 , 0.95083887, 0.69530542, 0.3766468 ],\n",
              "       [0.19649875, 0.43228308, 0.42971523, 0.26702445, 0.29075079,\n",
              "        0.81908175, 0.05140995, 0.34970518, 0.6014849 , 0.21005805],\n",
              "       [0.85463815, 0.254275  , 0.74850776, 0.52390975, 0.41689185,\n",
              "        0.69047907, 0.26744441, 0.28679778, 0.04071708, 0.40390497],\n",
              "       [0.60411764, 0.9702901 , 0.29506412, 0.5288837 , 0.71798491,\n",
              "        0.1834123 , 0.7133738 , 0.40868231, 0.14365994, 0.96437521],\n",
              "       [0.48430959, 0.26533803, 0.68659113, 0.7794636 , 0.31671194,\n",
              "        0.34062083, 0.90040584, 0.65658844, 0.11859619, 0.08473406],\n",
              "       [0.61798385, 0.02760755, 0.88558761, 0.04618518, 0.58411769,\n",
              "        0.68944217, 0.02383544, 0.74914914, 0.35681238, 0.67197589],\n",
              "       [0.45586353, 0.20506948, 0.73839521, 0.84489968, 0.21926757,\n",
              "        0.29965774, 0.76500981, 0.51942413, 0.53062659, 0.03513   ],\n",
              "       [0.30137002, 0.54203908, 0.56893745, 0.83704161, 0.11387507,\n",
              "        0.17097889, 0.02156988, 0.89524222, 0.57349735, 0.49893965],\n",
              "       [0.61876004, 0.90258176, 0.38388209, 0.21568039, 0.71703217,\n",
              "        0.82987344, 0.2884452 , 0.97956303, 0.12247844, 0.63127209],\n",
              "       [0.93052067, 0.8905642 , 0.78413067, 0.14882655, 0.57176162,\n",
              "        0.05916038, 0.95817627, 0.40010729, 0.81479543, 0.26724596]])"
            ]
          },
          "metadata": {},
          "execution_count": 58
        }
      ]
    },
    {
      "cell_type": "code",
      "source": [
        "np.max(arr)\n"
      ],
      "metadata": {
        "colab": {
          "base_uri": "https://localhost:8080/"
        },
        "id": "qAxIKEbedfpR",
        "outputId": "ca2717c3-c681-4eae-dafb-fa255be76ffa"
      },
      "execution_count": 59,
      "outputs": [
        {
          "output_type": "execute_result",
          "data": {
            "text/plain": [
              "0.9795630320830464"
            ]
          },
          "metadata": {},
          "execution_count": 59
        }
      ]
    },
    {
      "cell_type": "code",
      "source": [
        "np.min(arr)"
      ],
      "metadata": {
        "colab": {
          "base_uri": "https://localhost:8080/"
        },
        "id": "4aUO87PIhTLz",
        "outputId": "caf6d410-3543-4112-e3ff-c8a66eb82d4f"
      },
      "execution_count": 60,
      "outputs": [
        {
          "output_type": "execute_result",
          "data": {
            "text/plain": [
              "0.02156987865209048"
            ]
          },
          "metadata": {},
          "execution_count": 60
        }
      ]
    },
    {
      "cell_type": "markdown",
      "source": [
        "Create a random vector of size 30 and find the mean value (★☆☆)\n"
      ],
      "metadata": {
        "id": "haRAb5J0RqGB"
      }
    },
    {
      "cell_type": "code",
      "source": [
        "arr=np.random.randn(30)\n",
        "arr\n"
      ],
      "metadata": {
        "id": "oCv7aw-rRqlz",
        "colab": {
          "base_uri": "https://localhost:8080/"
        },
        "outputId": "89becb79-04b7-4fe7-d210-1c465a20a699"
      },
      "execution_count": 63,
      "outputs": [
        {
          "output_type": "execute_result",
          "data": {
            "text/plain": [
              "array([-1.30093876, -0.66575766,  1.07607511,  0.10752337, -2.01914367,\n",
              "       -1.22701957,  0.67790826, -0.27152857,  0.64381918,  0.68700011,\n",
              "        0.03186429, -0.65881503, -2.77422496, -0.38409446, -1.00594842,\n",
              "       -0.13187017,  0.37438377, -1.02770796,  0.26587179,  1.09173798,\n",
              "       -0.4089051 ,  0.26171042,  0.28605174, -1.37339221, -0.91092575,\n",
              "       -1.46609941,  0.8200041 , -1.4722214 ,  1.2079245 ,  2.7184674 ])"
            ]
          },
          "metadata": {},
          "execution_count": 63
        }
      ]
    },
    {
      "cell_type": "code",
      "source": [
        "arr.mean()"
      ],
      "metadata": {
        "colab": {
          "base_uri": "https://localhost:8080/"
        },
        "id": "jfsslKu1htRu",
        "outputId": "7214fe95-9677-4fbe-86e1-fd3181cb3a11"
      },
      "execution_count": 64,
      "outputs": [
        {
          "output_type": "execute_result",
          "data": {
            "text/plain": [
              "-0.22827503545711636"
            ]
          },
          "metadata": {},
          "execution_count": 64
        }
      ]
    },
    {
      "cell_type": "markdown",
      "source": [
        "Create a 2d array with 1 on the border and 0 inside (★☆☆)"
      ],
      "metadata": {
        "id": "Z5N-mrdRRs_b"
      }
    },
    {
      "cell_type": "code",
      "source": [
        "arr=np.ones(16).reshape(4,4)\n",
        "arr[1:-1,1:-1]=0\n",
        "arr"
      ],
      "metadata": {
        "id": "rtkMS5VnRssj",
        "colab": {
          "base_uri": "https://localhost:8080/"
        },
        "outputId": "46fbfef7-dfae-434a-89fd-b129d05958a6"
      },
      "execution_count": 73,
      "outputs": [
        {
          "output_type": "execute_result",
          "data": {
            "text/plain": [
              "array([[1., 1., 1., 1.],\n",
              "       [1., 0., 0., 1.],\n",
              "       [1., 0., 0., 1.],\n",
              "       [1., 1., 1., 1.]])"
            ]
          },
          "metadata": {},
          "execution_count": 73
        }
      ]
    },
    {
      "cell_type": "markdown",
      "source": [
        " How to add a border (filled with 0's) around an existing array? (★☆☆)\n"
      ],
      "metadata": {
        "id": "m_drvODlRuOL"
      }
    },
    {
      "cell_type": "code",
      "source": [
        "padded_array = np.pad(arr, pad_width=1, mode='constant', constant_values=0)\n",
        "padded_array"
      ],
      "metadata": {
        "id": "pDY3p5k1Rtd0",
        "colab": {
          "base_uri": "https://localhost:8080/"
        },
        "outputId": "d3921b2d-fc98-4c7c-8283-691ebb01095f"
      },
      "execution_count": 77,
      "outputs": [
        {
          "output_type": "execute_result",
          "data": {
            "text/plain": [
              "array([[0., 0., 0., 0., 0., 0.],\n",
              "       [0., 1., 1., 1., 1., 0.],\n",
              "       [0., 1., 0., 0., 1., 0.],\n",
              "       [0., 1., 0., 0., 1., 0.],\n",
              "       [0., 1., 1., 1., 1., 0.],\n",
              "       [0., 0., 0., 0., 0., 0.]])"
            ]
          },
          "metadata": {},
          "execution_count": 77
        }
      ]
    },
    {
      "cell_type": "markdown",
      "source": [
        "17. What is the result of the following expression? (★☆☆)\n",
        "\n",
        "0 * np.nan\n",
        "\n",
        "np.nan == np.\n",
        "\n",
        "np.inf > np.nan\n",
        "\n",
        "np.nan - np.nan\n",
        "\n",
        "np.nan in set([np.nan])\n",
        "\n",
        "0.3 == 3 * 0.1"
      ],
      "metadata": {
        "id": "jbzUt9L3RwMb"
      }
    },
    {
      "cell_type": "code",
      "source": [
        "0 * np.nan\n",
        "# nan = not a number"
      ],
      "metadata": {
        "id": "usRg0xl7Rzhy",
        "colab": {
          "base_uri": "https://localhost:8080/"
        },
        "outputId": "b1f69886-fdc7-4bf5-fcf0-6ba095f2ed2e"
      },
      "execution_count": 83,
      "outputs": [
        {
          "output_type": "execute_result",
          "data": {
            "text/plain": [
              "nan"
            ]
          },
          "metadata": {},
          "execution_count": 83
        }
      ]
    },
    {
      "cell_type": "code",
      "source": [
        "np.inf > np.nan\n",
        " #the answer is false , as np.nan is not considered to be comparable to any other number including np.+-inf"
      ],
      "metadata": {
        "colab": {
          "base_uri": "https://localhost:8080/"
        },
        "id": "JhEcAOoXpF0N",
        "outputId": "9378716c-f808-4341-db8a-acbd9bc96ae1"
      },
      "execution_count": 81,
      "outputs": [
        {
          "output_type": "execute_result",
          "data": {
            "text/plain": [
              "False"
            ]
          },
          "metadata": {},
          "execution_count": 81
        }
      ]
    },
    {
      "cell_type": "code",
      "source": [
        "np.nan-np.nan"
      ],
      "metadata": {
        "colab": {
          "base_uri": "https://localhost:8080/"
        },
        "id": "1tCPXEmBpyaZ",
        "outputId": "9f32865c-fca7-4490-e553-f90d9989dbd2"
      },
      "execution_count": 82,
      "outputs": [
        {
          "output_type": "execute_result",
          "data": {
            "text/plain": [
              "nan"
            ]
          },
          "metadata": {},
          "execution_count": 82
        }
      ]
    },
    {
      "cell_type": "code",
      "source": [
        "np.nan in set([np.nan])"
      ],
      "metadata": {
        "colab": {
          "base_uri": "https://localhost:8080/"
        },
        "id": "N3sWFkqxp5cL",
        "outputId": "962cace0-79fc-4599-84d0-3abb5ca6ac5f"
      },
      "execution_count": 84,
      "outputs": [
        {
          "output_type": "execute_result",
          "data": {
            "text/plain": [
              "True"
            ]
          },
          "metadata": {},
          "execution_count": 84
        }
      ]
    },
    {
      "cell_type": "markdown",
      "source": [
        " Create a 5x5 matrix with values 1,2,3,4 just below the diagonal (★☆☆)"
      ],
      "metadata": {
        "id": "r5Ew_FsBR4It"
      }
    },
    {
      "cell_type": "code",
      "source": [
        "arr=np.zeros(25).reshape(5,5)\n",
        "arr"
      ],
      "metadata": {
        "id": "u51MJbsUSAw6",
        "colab": {
          "base_uri": "https://localhost:8080/"
        },
        "outputId": "b5b491a6-9a9a-4a13-d047-fa647bd52e3c"
      },
      "execution_count": 95,
      "outputs": [
        {
          "output_type": "execute_result",
          "data": {
            "text/plain": [
              "array([[0., 0., 0., 0., 0.],\n",
              "       [0., 0., 0., 0., 0.],\n",
              "       [0., 0., 0., 0., 0.],\n",
              "       [0., 0., 0., 0., 0.],\n",
              "       [0., 0., 0., 0., 0.]])"
            ]
          },
          "metadata": {},
          "execution_count": 95
        }
      ]
    },
    {
      "cell_type": "code",
      "source": [
        "np.fill_diagonal(arr[1:],[1,2,3,4])\n",
        "print(arr)"
      ],
      "metadata": {
        "colab": {
          "base_uri": "https://localhost:8080/"
        },
        "id": "qoUbPdL_t2Oc",
        "outputId": "cbdbdff8-2d83-40a9-e93e-09374b27d87b"
      },
      "execution_count": 102,
      "outputs": [
        {
          "output_type": "stream",
          "name": "stdout",
          "text": [
            "[[0. 0. 0. 0. 0.]\n",
            " [1. 0. 0. 0. 0.]\n",
            " [0. 2. 0. 0. 0.]\n",
            " [0. 0. 3. 0. 0.]\n",
            " [0. 0. 0. 4. 0.]]\n"
          ]
        }
      ]
    },
    {
      "cell_type": "markdown",
      "source": [
        "Create a 8x8 matrix and fill it with a checkerboard pattern (★☆☆)"
      ],
      "metadata": {
        "id": "cUJrygQUR8qw"
      }
    },
    {
      "cell_type": "code",
      "source": [
        "arr=np.zeros((8,8))\n",
        "arr[::2,::2]=1\n",
        "arr[1::2,1::2]=1\n",
        "arr"
      ],
      "metadata": {
        "id": "hXYc0vr2R9Bj",
        "colab": {
          "base_uri": "https://localhost:8080/"
        },
        "outputId": "43587018-00ba-4a02-afe7-c0a1f77a5639"
      },
      "execution_count": 125,
      "outputs": [
        {
          "output_type": "execute_result",
          "data": {
            "text/plain": [
              "array([[1., 0., 1., 0., 1., 0., 1., 0.],\n",
              "       [0., 1., 0., 1., 0., 1., 0., 1.],\n",
              "       [1., 0., 1., 0., 1., 0., 1., 0.],\n",
              "       [0., 1., 0., 1., 0., 1., 0., 1.],\n",
              "       [1., 0., 1., 0., 1., 0., 1., 0.],\n",
              "       [0., 1., 0., 1., 0., 1., 0., 1.],\n",
              "       [1., 0., 1., 0., 1., 0., 1., 0.],\n",
              "       [0., 1., 0., 1., 0., 1., 0., 1.]])"
            ]
          },
          "metadata": {},
          "execution_count": 125
        }
      ]
    },
    {
      "cell_type": "markdown",
      "source": [
        "20. Consider a (6,7,8) shape array, what is the index (x,y,z) of the 100th element? (★☆☆)"
      ],
      "metadata": {
        "id": "vr82M9BCSDQE"
      }
    },
    {
      "cell_type": "code",
      "source": [],
      "metadata": {
        "id": "g4GTmPP4SC8f"
      },
      "execution_count": null,
      "outputs": []
    },
    {
      "cell_type": "markdown",
      "source": [
        "Create a checkerboard 8x8 matrix using the tile function (★☆☆)"
      ],
      "metadata": {
        "id": "vUBLSYrySDrB"
      }
    },
    {
      "cell_type": "code",
      "source": [
        "arr=np.zeros((8,8))\n",
        "arr"
      ],
      "metadata": {
        "id": "rLxVPnGhSEAp",
        "colab": {
          "base_uri": "https://localhost:8080/"
        },
        "outputId": "f81b4d71-26af-472c-e8c5-9427a1e3a496"
      },
      "execution_count": 126,
      "outputs": [
        {
          "output_type": "execute_result",
          "data": {
            "text/plain": [
              "array([[0., 0., 0., 0., 0., 0., 0., 0.],\n",
              "       [0., 0., 0., 0., 0., 0., 0., 0.],\n",
              "       [0., 0., 0., 0., 0., 0., 0., 0.],\n",
              "       [0., 0., 0., 0., 0., 0., 0., 0.],\n",
              "       [0., 0., 0., 0., 0., 0., 0., 0.],\n",
              "       [0., 0., 0., 0., 0., 0., 0., 0.],\n",
              "       [0., 0., 0., 0., 0., 0., 0., 0.],\n",
              "       [0., 0., 0., 0., 0., 0., 0., 0.]])"
            ]
          },
          "metadata": {},
          "execution_count": 126
        }
      ]
    },
    {
      "cell_type": "code",
      "source": [
        "ans=np.tile(arr,(1,0))\n",
        "ans"
      ],
      "metadata": {
        "colab": {
          "base_uri": "https://localhost:8080/"
        },
        "id": "mI4RQ_-jzfmR",
        "outputId": "ea176a7c-0a0e-4cb3-b738-bdc2ee95f315"
      },
      "execution_count": 129,
      "outputs": [
        {
          "output_type": "execute_result",
          "data": {
            "text/plain": [
              "array([], shape=(8, 0), dtype=float64)"
            ]
          },
          "metadata": {},
          "execution_count": 129
        }
      ]
    },
    {
      "cell_type": "markdown",
      "source": [
        " Normalize a 5x5 random matrix"
      ],
      "metadata": {
        "id": "9Em4yJ_bSEau"
      }
    },
    {
      "cell_type": "code",
      "source": [],
      "metadata": {
        "id": "7HMtYa9GSE8H"
      },
      "execution_count": null,
      "outputs": []
    },
    {
      "cell_type": "markdown",
      "source": [
        " Multiply a 5x3 matrix by a 3x2 matrix (real matrix product) (★"
      ],
      "metadata": {
        "id": "jTZAmlgXTg0A"
      }
    },
    {
      "cell_type": "code",
      "source": [],
      "metadata": {
        "id": "rqAOQNrxTkUO"
      },
      "execution_count": null,
      "outputs": []
    },
    {
      "cell_type": "markdown",
      "source": [
        " Multiply a 5x3 matrix by a 3x2 matrix (real matrix product) (★"
      ],
      "metadata": {
        "id": "O582YoNrTmlE"
      }
    },
    {
      "cell_type": "code",
      "source": [],
      "metadata": {
        "id": "ovUg4jxLTnC2"
      },
      "execution_count": null,
      "outputs": []
    },
    {
      "cell_type": "markdown",
      "source": [
        "What is the output of the following script? (★☆☆)\n",
        "\n",
        "\n",
        "print(sum(range(5),-1))\n",
        "\n",
        "from numpy import *\n",
        "\n",
        "print(sum(range(5),-1))"
      ],
      "metadata": {
        "id": "H8bW8vHeTqSV"
      }
    },
    {
      "cell_type": "code",
      "source": [],
      "metadata": {
        "id": "HWfqYMPGTtGm"
      },
      "execution_count": null,
      "outputs": []
    },
    {
      "cell_type": "markdown",
      "source": [
        "Consider an integer vector Z, which of these expressions are legal? (★☆☆)\n",
        "Z**Z\n",
        "\n",
        "2 << Z >> 2\n",
        "\n",
        "Z <- Z\n",
        "\n",
        "1j*Z\n",
        "\n",
        "Z/1/1\n",
        "\n",
        "Z<Z>Z"
      ],
      "metadata": {
        "id": "J7CMkVbATtpc"
      }
    },
    {
      "cell_type": "code",
      "source": [],
      "metadata": {
        "id": "010uRjGPT8YS"
      },
      "execution_count": null,
      "outputs": []
    },
    {
      "cell_type": "code",
      "source": [],
      "metadata": {
        "id": "KUIeJ9FZT0AC"
      },
      "execution_count": null,
      "outputs": []
    },
    {
      "cell_type": "markdown",
      "source": [
        "28. What are the result of the following expressions? (★☆☆)\n",
        "\n",
        "np.array(0) / np.array(0)\n",
        "\n",
        "np.array(0) // np.array(0)\n",
        "\n",
        "np.array([np.nan]).astype(int).astype(float)"
      ],
      "metadata": {
        "id": "2cyglO5aTzpc"
      }
    },
    {
      "cell_type": "code",
      "source": [],
      "metadata": {
        "id": "_dPk8iNQT9WX"
      },
      "execution_count": null,
      "outputs": []
    },
    {
      "cell_type": "markdown",
      "source": [
        "How to round away from zero a float array ? (★☆☆)"
      ],
      "metadata": {
        "id": "EWEpuGXrT5x9"
      }
    },
    {
      "cell_type": "code",
      "source": [],
      "metadata": {
        "id": "z8PnLyWHT_W8"
      },
      "execution_count": null,
      "outputs": []
    },
    {
      "cell_type": "markdown",
      "source": [
        "How to find common values between two arrays? (★☆☆)"
      ],
      "metadata": {
        "id": "PAsYFznPT6__"
      }
    },
    {
      "cell_type": "code",
      "source": [],
      "metadata": {
        "id": "4KtZ8xofUHxx"
      },
      "execution_count": null,
      "outputs": []
    },
    {
      "cell_type": "markdown",
      "source": [
        " Is the following expressions true? (★☆☆)\n",
        "np.sqrt(-1) == np.emath.sqrt(-1)"
      ],
      "metadata": {
        "id": "1HP5I9czUBRS"
      }
    },
    {
      "cell_type": "code",
      "source": [],
      "metadata": {
        "id": "2unrKD6BUIXG"
      },
      "execution_count": null,
      "outputs": []
    },
    {
      "cell_type": "markdown",
      "source": [
        " How to get the dates of yesterday, today and tomorrow? (★☆☆)\n"
      ],
      "metadata": {
        "id": "0H4SL2XPT1M4"
      }
    },
    {
      "cell_type": "code",
      "source": [],
      "metadata": {
        "id": "OTclPWpLUGMw"
      },
      "execution_count": null,
      "outputs": []
    },
    {
      "cell_type": "markdown",
      "source": [
        "34. How to get all the dates corresponding to the month of July 2016? (★★☆)"
      ],
      "metadata": {
        "id": "Uad9DPrwUMxM"
      }
    },
    {
      "cell_type": "code",
      "source": [],
      "metadata": {
        "id": "SLiMv39lUMY7"
      },
      "execution_count": null,
      "outputs": []
    },
    {
      "cell_type": "markdown",
      "source": [
        "How to compute ((A+B)*(-A/2)) in place (without copy)? (★★☆)"
      ],
      "metadata": {
        "id": "4rDEmHjhUMCA"
      }
    },
    {
      "cell_type": "code",
      "source": [],
      "metadata": {
        "id": "M7PcK6rIUTHE"
      },
      "execution_count": null,
      "outputs": []
    },
    {
      "cell_type": "markdown",
      "source": [
        " Extract the integer part of a random array of positive numbers using 4 different methods (★★☆)"
      ],
      "metadata": {
        "id": "dVQvz6dWUVNx"
      }
    },
    {
      "cell_type": "code",
      "source": [],
      "metadata": {
        "id": "Gtmsv7-SUU7d"
      },
      "execution_count": null,
      "outputs": []
    },
    {
      "cell_type": "markdown",
      "source": [
        "Create a 5x5 matrix with row values ranging from 0 to 4 (★★☆)"
      ],
      "metadata": {
        "id": "841u7GQWUWAt"
      }
    },
    {
      "cell_type": "code",
      "source": [],
      "metadata": {
        "id": "pmeWMq5tUVo1"
      },
      "execution_count": null,
      "outputs": []
    },
    {
      "cell_type": "markdown",
      "source": [
        " Consider a generator function that generates 10 integers and use it to build an array (★☆☆)"
      ],
      "metadata": {
        "id": "bQ9lQDqwUbtU"
      }
    },
    {
      "cell_type": "code",
      "source": [],
      "metadata": {
        "id": "mfGAx15gUa4G"
      },
      "execution_count": null,
      "outputs": []
    },
    {
      "cell_type": "markdown",
      "source": [
        "Create a vector of size 10 with values ranging from 0 to 1, both excluded (★★☆)"
      ],
      "metadata": {
        "id": "hgoxqaw4UcGH"
      }
    },
    {
      "cell_type": "code",
      "source": [],
      "metadata": {
        "id": "GBjg1HxnUan9"
      },
      "execution_count": null,
      "outputs": []
    },
    {
      "cell_type": "markdown",
      "source": [
        " Create a random vector of size 10 and sort it (★★☆)"
      ],
      "metadata": {
        "id": "dfYC3yrWUaUh"
      }
    },
    {
      "cell_type": "code",
      "source": [],
      "metadata": {
        "id": "nfMdWM4zUZyI"
      },
      "execution_count": null,
      "outputs": []
    },
    {
      "cell_type": "markdown",
      "source": [
        "How to sum a small array faster than np.sum? (★★☆)"
      ],
      "metadata": {
        "id": "GIpIOvmrUj_a"
      }
    },
    {
      "cell_type": "code",
      "source": [],
      "metadata": {
        "id": "I8GJ3AHhUjOn"
      },
      "execution_count": null,
      "outputs": []
    },
    {
      "cell_type": "markdown",
      "source": [
        "Consider two random array A and B, check if they are equal (★★☆)"
      ],
      "metadata": {
        "id": "1GwLFskYUl4n"
      }
    },
    {
      "cell_type": "code",
      "source": [],
      "metadata": {
        "id": "GkzwQVF4UlmI"
      },
      "execution_count": null,
      "outputs": []
    },
    {
      "cell_type": "markdown",
      "source": [
        "Make an array immutable (read-only) (★★☆)"
      ],
      "metadata": {
        "id": "Y0bx0ctcUnzt"
      }
    },
    {
      "cell_type": "code",
      "source": [],
      "metadata": {
        "id": "nw35XOVDUqZs"
      },
      "execution_count": null,
      "outputs": []
    },
    {
      "cell_type": "markdown",
      "source": [
        "Consider a random 10x2 matrix representing cartesian coordinates, convert them to polar coordinates (★★☆)"
      ],
      "metadata": {
        "id": "TQW_GvidU030"
      }
    },
    {
      "cell_type": "code",
      "source": [],
      "metadata": {
        "id": "_t9IRa4hU38p"
      },
      "execution_count": null,
      "outputs": []
    },
    {
      "cell_type": "markdown",
      "source": [
        "Create a structured array with x and y coordinates covering the [0,1]x[0,1] area (★★☆)"
      ],
      "metadata": {
        "id": "K6HJuBAmU1Zo"
      }
    },
    {
      "cell_type": "code",
      "source": [],
      "metadata": {
        "id": "u49JtB9hU4Mo"
      },
      "execution_count": null,
      "outputs": []
    },
    {
      "cell_type": "markdown",
      "source": [
        ". Create random vector of size 10 and replace the maximum value by 0 (★★☆)"
      ],
      "metadata": {
        "id": "n9yhM791U3Je"
      }
    },
    {
      "cell_type": "code",
      "source": [],
      "metadata": {
        "id": "kG7w4NNRU52E"
      },
      "execution_count": null,
      "outputs": []
    },
    {
      "cell_type": "markdown",
      "source": [
        "7. Given two arrays, X and Y, construct the Cauchy matrix C (Cij =1/(xi - yj)) (★★☆)"
      ],
      "metadata": {
        "id": "0m1P__7wU9W6"
      }
    },
    {
      "cell_type": "code",
      "source": [],
      "metadata": {
        "id": "Ka1tRq-mU7l0"
      },
      "execution_count": null,
      "outputs": []
    },
    {
      "cell_type": "markdown",
      "source": [
        "48. Print the minimum and maximum representable value for each numpy scalar type (★★☆)"
      ],
      "metadata": {
        "id": "_38atI4DU-k6"
      }
    },
    {
      "cell_type": "code",
      "source": [],
      "metadata": {
        "id": "wixOHhysVBWn"
      },
      "execution_count": null,
      "outputs": []
    },
    {
      "cell_type": "markdown",
      "source": [
        "49. How to print all the values of an array? (★★☆)"
      ],
      "metadata": {
        "id": "yEeF6hRNVCIb"
      }
    },
    {
      "cell_type": "code",
      "source": [],
      "metadata": {
        "id": "FfyyVJj3VBx7"
      },
      "execution_count": null,
      "outputs": []
    },
    {
      "cell_type": "markdown",
      "source": [
        "50. How to find the closest value (to a given scalar) in a vector? (★★☆)"
      ],
      "metadata": {
        "id": "JUfGIyGbVEQ6"
      }
    },
    {
      "cell_type": "code",
      "source": [],
      "metadata": {
        "id": "eQWSnBB9VDxN"
      },
      "execution_count": null,
      "outputs": []
    },
    {
      "cell_type": "markdown",
      "source": [
        "51. Create a structured array representing a position (x,y) and a color (r,g,b) (★★☆)"
      ],
      "metadata": {
        "id": "1iQYNqzdVGUg"
      }
    },
    {
      "cell_type": "code",
      "source": [],
      "metadata": {
        "id": "-0EaChsvVF7v"
      },
      "execution_count": null,
      "outputs": []
    },
    {
      "cell_type": "markdown",
      "source": [
        "52. Consider a random vector with shape (100,2) representing coordinates, find point by point distances (★★☆)"
      ],
      "metadata": {
        "id": "cMCSkAxgVIv4"
      }
    },
    {
      "cell_type": "code",
      "source": [],
      "metadata": {
        "id": "s2NLwd__VIU3"
      },
      "execution_count": null,
      "outputs": []
    },
    {
      "cell_type": "markdown",
      "source": [
        " How to convert a float (32 bits) array into an integer (32 bits) in place?"
      ],
      "metadata": {
        "id": "l91yKYbWVLds"
      }
    },
    {
      "cell_type": "code",
      "source": [],
      "metadata": {
        "id": "MBtc-4NVVKry"
      },
      "execution_count": null,
      "outputs": []
    },
    {
      "cell_type": "markdown",
      "source": [],
      "metadata": {
        "id": "0xRAArQaVL2h"
      }
    },
    {
      "cell_type": "code",
      "source": [],
      "metadata": {
        "id": "UUKmy7EKVKJu"
      },
      "execution_count": null,
      "outputs": []
    }
  ]
}