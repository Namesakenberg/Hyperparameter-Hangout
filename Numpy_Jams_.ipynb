{
  "nbformat": 4,
  "nbformat_minor": 0,
  "metadata": {
    "colab": {
      "provenance": [],
      "authorship_tag": "ABX9TyNvSRD1L36fP2hMhzqO3A99",
      "include_colab_link": true
    },
    "kernelspec": {
      "name": "python3",
      "display_name": "Python 3"
    },
    "language_info": {
      "name": "python"
    }
  },
  "cells": [
    {
      "cell_type": "markdown",
      "metadata": {
        "id": "view-in-github",
        "colab_type": "text"
      },
      "source": [
        "<a href=\"https://colab.research.google.com/github/Namesakenberg/Hyperparameter-Hangout/blob/main/Numpy_Jams_.ipynb\" target=\"_parent\"><img src=\"https://colab.research.google.com/assets/colab-badge.svg\" alt=\"Open In Colab\"/></a>"
      ]
    },
    {
      "cell_type": "markdown",
      "source": [
        "numy vs python lists performance comparison\n",
        "\n",
        "\n"
      ],
      "metadata": {
        "id": "f6HR-EE9qxfs"
      }
    },
    {
      "cell_type": "code",
      "execution_count": null,
      "metadata": {
        "id": "I6x-6TvPqrRb"
      },
      "outputs": [],
      "source": [
        "import numpy as np\n",
        "my_arr=np.arange(1000000)\n",
        "my_list=list(range(1000000))\n",
        "\n",
        "etime = np.testing.measure('for i in range(1000): np.sqrt(i**2)', times=times)"
      ]
    },
    {
      "cell_type": "code",
      "source": [
        "times = 10\n",
        "etime = np.testing.measure('for i in range(1000): np.sqrt(i**2)', times=times)\n",
        "print(\"Time for a single execution : \", etime / times, \"s\")"
      ],
      "metadata": {
        "colab": {
          "base_uri": "https://localhost:8080/"
        },
        "id": "JZL6OEPNs9rn",
        "outputId": "ff6f2bdc-4405-4aea-a6a4-eb81e259c538"
      },
      "execution_count": null,
      "outputs": [
        {
          "output_type": "stream",
          "name": "stdout",
          "text": [
            "Time for a single execution :  0.002 s\n"
          ]
        }
      ]
    },
    {
      "cell_type": "code",
      "source": [
        "# multiply each sequence by 2\n",
        "%time for _ in range(10): my_arr2 = my_arr * 2\n",
        "%time for _ in range(10):my_list2=[x* 2 for x in my_list]"
      ],
      "metadata": {
        "colab": {
          "base_uri": "https://localhost:8080/"
        },
        "id": "DHrKWTW0rcGe",
        "outputId": "7d302259-7aff-4635-f99d-60793030d923"
      },
      "execution_count": null,
      "outputs": [
        {
          "output_type": "stream",
          "name": "stdout",
          "text": [
            "CPU times: user 12.1 ms, sys: 2.82 ms, total: 14.9 ms\n",
            "Wall time: 17 ms\n",
            "CPU times: user 630 ms, sys: 169 ms, total: 799 ms\n",
            "Wall time: 801 ms\n"
          ]
        }
      ]
    },
    {
      "cell_type": "markdown",
      "source": [
        "Generate a small numpy array\n"
      ],
      "metadata": {
        "id": "_e-2TV9xvhA-"
      }
    },
    {
      "cell_type": "code",
      "source": [
        "x=np.random.rand(3,4)\n",
        "x"
      ],
      "metadata": {
        "colab": {
          "base_uri": "https://localhost:8080/"
        },
        "id": "t3CoBGHqvnl-",
        "outputId": "081e45d7-14ed-4bd1-e191-e6324851f0cf"
      },
      "execution_count": null,
      "outputs": [
        {
          "output_type": "execute_result",
          "data": {
            "text/plain": [
              "array([[0.79070386, 0.15207164, 0.22811308, 0.95110832],\n",
              "       [0.48475289, 0.17822704, 0.64191942, 0.42742649],\n",
              "       [0.63601052, 0.38704951, 0.52579012, 0.41875008]])"
            ]
          },
          "metadata": {},
          "execution_count": 51
        }
      ]
    },
    {
      "cell_type": "code",
      "source": [
        "x*10"
      ],
      "metadata": {
        "colab": {
          "base_uri": "https://localhost:8080/"
        },
        "id": "VsL6bEbmvnqb",
        "outputId": "0c985788-c56b-4767-8b02-316627b9326f"
      },
      "execution_count": null,
      "outputs": [
        {
          "output_type": "execute_result",
          "data": {
            "text/plain": [
              "array([[2.26501203, 4.46112463],\n",
              "       [3.67056779, 0.70127923],\n",
              "       [0.24158132, 2.01223802]])"
            ]
          },
          "metadata": {},
          "execution_count": 15
        }
      ]
    },
    {
      "cell_type": "code",
      "source": [
        "x+x"
      ],
      "metadata": {
        "colab": {
          "base_uri": "https://localhost:8080/"
        },
        "id": "QhPRrAlIxFKO",
        "outputId": "70344401-402f-46ed-e8b9-ed08d5d1459e"
      },
      "execution_count": null,
      "outputs": [
        {
          "output_type": "execute_result",
          "data": {
            "text/plain": [
              "array([[0.45300241, 0.89222493],\n",
              "       [0.73411356, 0.14025585],\n",
              "       [0.04831626, 0.4024476 ]])"
            ]
          },
          "metadata": {},
          "execution_count": 16
        }
      ]
    },
    {
      "cell_type": "code",
      "source": [
        "x.shape"
      ],
      "metadata": {
        "colab": {
          "base_uri": "https://localhost:8080/"
        },
        "id": "SaWW49duxinf",
        "outputId": "f0284b6e-ef2b-477b-bb4e-7814b1b3bd66"
      },
      "execution_count": null,
      "outputs": [
        {
          "output_type": "execute_result",
          "data": {
            "text/plain": [
              "(3, 2)"
            ]
          },
          "metadata": {},
          "execution_count": 18
        }
      ]
    },
    {
      "cell_type": "code",
      "source": [
        "x.dtype"
      ],
      "metadata": {
        "colab": {
          "base_uri": "https://localhost:8080/"
        },
        "id": "bVKfQ0-QxjZG",
        "outputId": "dd3b2444-d5a8-429d-f65f-75fcd77ffbee"
      },
      "execution_count": null,
      "outputs": [
        {
          "output_type": "execute_result",
          "data": {
            "text/plain": [
              "dtype('float64')"
            ]
          },
          "metadata": {},
          "execution_count": 19
        }
      ]
    },
    {
      "cell_type": "markdown",
      "source": [
        "creating ndarrays"
      ],
      "metadata": {
        "id": "OoFlPum-yUPF"
      }
    },
    {
      "cell_type": "code",
      "source": [
        "data1=[2,3,95,7,11,11]\n",
        "array1=np.asarray(data1)\n",
        "\n",
        "array1"
      ],
      "metadata": {
        "colab": {
          "base_uri": "https://localhost:8080/"
        },
        "id": "p7mNnE8RyS9L",
        "outputId": "0a7e737c-0b8b-45e3-e870-19dbb12888a0"
      },
      "execution_count": null,
      "outputs": [
        {
          "output_type": "execute_result",
          "data": {
            "text/plain": [
              "array([ 2,  3, 95,  7, 11, 11])"
            ]
          },
          "metadata": {},
          "execution_count": 34
        }
      ]
    },
    {
      "cell_type": "code",
      "source": [
        "data2=[[1,2,3,4,5],[6,7,8,9,10]]\n",
        "array2=np.array(data2)\n",
        "array2"
      ],
      "metadata": {
        "colab": {
          "base_uri": "https://localhost:8080/"
        },
        "id": "OJTkRg-gy9vR",
        "outputId": "211676e5-29bc-4339-d52a-979ac403fe84"
      },
      "execution_count": null,
      "outputs": [
        {
          "output_type": "execute_result",
          "data": {
            "text/plain": [
              "array([[ 1,  2,  3,  4,  5],\n",
              "       [ 6,  7,  8,  9, 10]])"
            ]
          },
          "metadata": {},
          "execution_count": 25
        }
      ]
    },
    {
      "cell_type": "code",
      "source": [
        "array2.shape"
      ],
      "metadata": {
        "colab": {
          "base_uri": "https://localhost:8080/"
        },
        "id": "riPTIaBIzsFn",
        "outputId": "5fd3134e-2ce4-4fd7-b314-c30aab02be34"
      },
      "execution_count": null,
      "outputs": [
        {
          "output_type": "execute_result",
          "data": {
            "text/plain": [
              "(2, 5)"
            ]
          },
          "metadata": {},
          "execution_count": 28
        }
      ]
    },
    {
      "cell_type": "code",
      "source": [
        "\n",
        "array2.ndim"
      ],
      "metadata": {
        "colab": {
          "base_uri": "https://localhost:8080/"
        },
        "id": "tnCIrVcNzmf6",
        "outputId": "4250e64d-61a1-4198-f0b1-8270cd38f7a5"
      },
      "execution_count": null,
      "outputs": [
        {
          "output_type": "execute_result",
          "data": {
            "text/plain": [
              "2"
            ]
          },
          "metadata": {},
          "execution_count": 29
        }
      ]
    },
    {
      "cell_type": "markdown",
      "source": [
        "array vs asarray"
      ],
      "metadata": {
        "id": "0fkS1s6o1E3Q"
      }
    },
    {
      "cell_type": "code",
      "source": [
        "A = np.ones((3,2))\n",
        "A"
      ],
      "metadata": {
        "colab": {
          "base_uri": "https://localhost:8080/"
        },
        "id": "TueBudZa1Htk",
        "outputId": "fb02310c-3016-4a9c-bb95-30c215d633e3"
      },
      "execution_count": null,
      "outputs": [
        {
          "output_type": "execute_result",
          "data": {
            "text/plain": [
              "array([[1., 1.],\n",
              "       [1., 1.],\n",
              "       [1., 1.]])"
            ]
          },
          "metadata": {},
          "execution_count": 37
        }
      ]
    },
    {
      "cell_type": "code",
      "source": [
        "np.array(A)[2]=2\n",
        "A\n",
        "# does not update the last row"
      ],
      "metadata": {
        "colab": {
          "base_uri": "https://localhost:8080/"
        },
        "id": "zeJSETn01Uvn",
        "outputId": "2909c9e9-4c6b-4144-a10e-3c2e41ec13dd"
      },
      "execution_count": null,
      "outputs": [
        {
          "output_type": "execute_result",
          "data": {
            "text/plain": [
              "array([[1., 1.],\n",
              "       [1., 1.],\n",
              "       [1., 1.]])"
            ]
          },
          "metadata": {},
          "execution_count": 39
        }
      ]
    },
    {
      "cell_type": "code",
      "source": [
        "np.asarray(A)[2]=2\n",
        "A\n",
        "#changes the second row of the previous array"
      ],
      "metadata": {
        "colab": {
          "base_uri": "https://localhost:8080/"
        },
        "id": "y0u4dLVL1oO9",
        "outputId": "3d9fcadb-29b6-4a20-9f72-f093158a8da5"
      },
      "execution_count": null,
      "outputs": [
        {
          "output_type": "execute_result",
          "data": {
            "text/plain": [
              "array([[1., 1.],\n",
              "       [1., 1.],\n",
              "       [2., 2.]])"
            ]
          },
          "metadata": {},
          "execution_count": 40
        }
      ]
    },
    {
      "cell_type": "code",
      "source": [
        "np.arange(10)"
      ],
      "metadata": {
        "colab": {
          "base_uri": "https://localhost:8080/"
        },
        "id": "aV_j6tBR12qL",
        "outputId": "55afbd3c-606f-4819-925a-7da822c92ebf"
      },
      "execution_count": null,
      "outputs": [
        {
          "output_type": "execute_result",
          "data": {
            "text/plain": [
              "array([0, 1, 2, 3, 4, 5, 6, 7, 8, 9])"
            ]
          },
          "metadata": {},
          "execution_count": 46
        }
      ]
    },
    {
      "cell_type": "code",
      "source": [
        "B=np.empty_like(5)\n",
        "B\n",
        "#takes another array and creates a new array of same size and datatype just fills all the entries with 1"
      ],
      "metadata": {
        "colab": {
          "base_uri": "https://localhost:8080/"
        },
        "id": "y1Z19pBb2lux",
        "outputId": "a6b9d4ad-6af4-4ca8-da22-c1270873604b"
      },
      "execution_count": null,
      "outputs": [
        {
          "output_type": "execute_result",
          "data": {
            "text/plain": [
              "array(102037475772714)"
            ]
          },
          "metadata": {},
          "execution_count": 59
        }
      ]
    },
    {
      "cell_type": "markdown",
      "source": [
        "typecasting a numpy array (chaning the datatype)\n"
      ],
      "metadata": {
        "id": "tf5xRbwM6bUj"
      }
    },
    {
      "cell_type": "code",
      "source": [
        "arr=np.array([1,2,3,4,5])\n",
        "arr.dtype\n",
        "float_arr=arr.astype(np.float64)\n",
        "float_arr.dtype"
      ],
      "metadata": {
        "colab": {
          "base_uri": "https://localhost:8080/"
        },
        "id": "cCTo3_W46i58",
        "outputId": "a1108bf5-2876-474a-877d-b55911e4aadb"
      },
      "execution_count": null,
      "outputs": [
        {
          "output_type": "execute_result",
          "data": {
            "text/plain": [
              "dtype('float64')"
            ]
          },
          "metadata": {},
          "execution_count": 62
        }
      ]
    },
    {
      "cell_type": "code",
      "source": [
        "array1=np.array([1.2,3.4,4.5,-9.88,56.67])\n",
        "array1.dtype\n",
        "array1int=array1.astype(np.int32)\n",
        "array1int"
      ],
      "metadata": {
        "colab": {
          "base_uri": "https://localhost:8080/"
        },
        "id": "2tdOUD0v7Wh_",
        "outputId": "e9a4ca93-fb78-4312-cafc-27ffbff66262"
      },
      "execution_count": null,
      "outputs": [
        {
          "output_type": "execute_result",
          "data": {
            "text/plain": [
              "array([ 1,  3,  4, -9, 56], dtype=int32)"
            ]
          },
          "metadata": {},
          "execution_count": 64
        }
      ]
    },
    {
      "cell_type": "markdown",
      "source": [
        "Calling astype always creates a new array (a copy of the data), even if the new\n",
        " dtype is the same as the old dtype.\n",
        "\n"
      ],
      "metadata": {
        "id": "ITqgbuof8ioH"
      }
    },
    {
      "cell_type": "code",
      "source": [],
      "metadata": {
        "id": "q7unuYTZ8j6c"
      },
      "execution_count": null,
      "outputs": []
    },
    {
      "cell_type": "markdown",
      "source": [
        "Arithmatic with numpy arrays"
      ],
      "metadata": {
        "id": "Wq2GqLeD9hDN"
      }
    },
    {
      "cell_type": "code",
      "source": [
        "arr= np.array([[1.,2.,3.],[4.,5.,6.]])\n",
        "arr"
      ],
      "metadata": {
        "colab": {
          "base_uri": "https://localhost:8080/"
        },
        "id": "dFMPap6K9g4v",
        "outputId": "e269ecfd-0696-4aaa-8465-73aa0675c9e5"
      },
      "execution_count": null,
      "outputs": [
        {
          "output_type": "execute_result",
          "data": {
            "text/plain": [
              "array([[1., 2., 3.],\n",
              "       [4., 5., 6.]])"
            ]
          },
          "metadata": {},
          "execution_count": 66
        }
      ]
    },
    {
      "cell_type": "code",
      "source": [
        "arr*arr"
      ],
      "metadata": {
        "colab": {
          "base_uri": "https://localhost:8080/"
        },
        "id": "kiD2t7kr9gxO",
        "outputId": "094def7c-e4e8-4ed5-cd42-b7df0c6d3086"
      },
      "execution_count": null,
      "outputs": [
        {
          "output_type": "execute_result",
          "data": {
            "text/plain": [
              "array([[ 1.,  4.,  9.],\n",
              "       [16., 25., 36.]])"
            ]
          },
          "metadata": {},
          "execution_count": 67
        }
      ]
    },
    {
      "cell_type": "code",
      "source": [
        "arr-arr"
      ],
      "metadata": {
        "colab": {
          "base_uri": "https://localhost:8080/"
        },
        "id": "PDovFBaN-EWn",
        "outputId": "2d9d7d64-85c6-4810-f7e4-73dbefc3766d"
      },
      "execution_count": null,
      "outputs": [
        {
          "output_type": "execute_result",
          "data": {
            "text/plain": [
              "array([[0., 0., 0.],\n",
              "       [0., 0., 0.]])"
            ]
          },
          "metadata": {},
          "execution_count": 68
        }
      ]
    },
    {
      "cell_type": "code",
      "source": [
        "1/arr #divide each element by array itself, but as the new array is equal to square of old array terms , each element is divided by square of itelf"
      ],
      "metadata": {
        "colab": {
          "base_uri": "https://localhost:8080/"
        },
        "id": "IgPGvhdG-TYA",
        "outputId": "fdbbc921-ad03-42a1-99a3-9e05f7f003c8"
      },
      "execution_count": null,
      "outputs": [
        {
          "output_type": "execute_result",
          "data": {
            "text/plain": [
              "array([[1.        , 0.5       , 0.33333333],\n",
              "       [0.25      , 0.2       , 0.16666667]])"
            ]
          },
          "metadata": {},
          "execution_count": 71
        }
      ]
    },
    {
      "cell_type": "code",
      "source": [
        "arr**0.5  #sq.root"
      ],
      "metadata": {
        "colab": {
          "base_uri": "https://localhost:8080/"
        },
        "id": "JEwUWoxo-s4X",
        "outputId": "4232d09f-cc5f-4e9e-c5c1-7df5e9178a15"
      },
      "execution_count": null,
      "outputs": [
        {
          "output_type": "execute_result",
          "data": {
            "text/plain": [
              "array([[1.        , 1.41421356, 1.73205081],\n",
              "       [2.        , 2.23606798, 2.44948974]])"
            ]
          },
          "metadata": {},
          "execution_count": 72
        }
      ]
    },
    {
      "cell_type": "code",
      "source": [
        "arr2=np.array([[0.,4.,1.],[7.,2.,12.]])\n",
        "arr2"
      ],
      "metadata": {
        "colab": {
          "base_uri": "https://localhost:8080/"
        },
        "id": "bCWvxG8k_Rt_",
        "outputId": "30f0842c-c2a9-4d0c-c442-62cfb7db6a58"
      },
      "execution_count": null,
      "outputs": [
        {
          "output_type": "execute_result",
          "data": {
            "text/plain": [
              "array([[ 0.,  4.,  1.],\n",
              "       [ 7.,  2., 12.]])"
            ]
          },
          "metadata": {},
          "execution_count": 74
        }
      ]
    },
    {
      "cell_type": "code",
      "source": [
        "arr2>arr"
      ],
      "metadata": {
        "colab": {
          "base_uri": "https://localhost:8080/"
        },
        "id": "QgR9xAP6_w_Y",
        "outputId": "7e25c6f5-0d5d-46e8-fbb7-425c695ca954"
      },
      "execution_count": null,
      "outputs": [
        {
          "output_type": "execute_result",
          "data": {
            "text/plain": [
              "array([[False,  True, False],\n",
              "       [ True, False,  True]])"
            ]
          },
          "metadata": {},
          "execution_count": 75
        }
      ]
    },
    {
      "cell_type": "markdown",
      "source": [
        "Basic indexing and slicing"
      ],
      "metadata": {
        "id": "qqBB21VMACMK"
      }
    },
    {
      "cell_type": "markdown",
      "source": [
        "One-dimensional arrays\n",
        " are simple; on the surface they act similarly to Python lists:"
      ],
      "metadata": {
        "id": "_KxVDFwoAeU0"
      }
    },
    {
      "cell_type": "code",
      "source": [
        "arr=np.arange(10)\n",
        "arr"
      ],
      "metadata": {
        "colab": {
          "base_uri": "https://localhost:8080/"
        },
        "id": "Szn6tauP__TK",
        "outputId": "7885aa5d-7357-4d53-ab08-dba19fac3fc6"
      },
      "execution_count": null,
      "outputs": [
        {
          "output_type": "execute_result",
          "data": {
            "text/plain": [
              "array([0, 1, 2, 3, 4, 5, 6, 7, 8, 9])"
            ]
          },
          "metadata": {},
          "execution_count": 76
        }
      ]
    },
    {
      "cell_type": "code",
      "source": [
        "arr[5]"
      ],
      "metadata": {
        "colab": {
          "base_uri": "https://localhost:8080/"
        },
        "id": "rAPsvqdwAl-i",
        "outputId": "a8aa0413-61da-491b-8d3b-d11684f068c6"
      },
      "execution_count": null,
      "outputs": [
        {
          "output_type": "execute_result",
          "data": {
            "text/plain": [
              "5"
            ]
          },
          "metadata": {},
          "execution_count": 77
        }
      ]
    },
    {
      "cell_type": "code",
      "source": [
        "arr[5:8]"
      ],
      "metadata": {
        "colab": {
          "base_uri": "https://localhost:8080/"
        },
        "id": "lmG7FBHpAnVt",
        "outputId": "011f19b3-1235-4275-ccd1-9f381a9530ee"
      },
      "execution_count": null,
      "outputs": [
        {
          "output_type": "execute_result",
          "data": {
            "text/plain": [
              "array([5, 6, 7])"
            ]
          },
          "metadata": {},
          "execution_count": 78
        }
      ]
    },
    {
      "cell_type": "code",
      "source": [
        "arr[5:8]=12\n",
        "arr"
      ],
      "metadata": {
        "colab": {
          "base_uri": "https://localhost:8080/"
        },
        "id": "m21u2oKmA0S0",
        "outputId": "b81ab2ca-b8da-4c03-9774-b71f320c3ddd"
      },
      "execution_count": null,
      "outputs": [
        {
          "output_type": "execute_result",
          "data": {
            "text/plain": [
              "array([ 0,  1,  2,  3,  4, 12, 12, 12,  8,  9])"
            ]
          },
          "metadata": {},
          "execution_count": 81
        }
      ]
    },
    {
      "cell_type": "code",
      "source": [
        "arr_slice=arr[5:8]\n",
        "arr_slice"
      ],
      "metadata": {
        "colab": {
          "base_uri": "https://localhost:8080/"
        },
        "id": "TxPuWv6hBpHp",
        "outputId": "dc5564a8-5aa3-425b-c40b-3c380ac498ae"
      },
      "execution_count": null,
      "outputs": [
        {
          "output_type": "execute_result",
          "data": {
            "text/plain": [
              "array([12, 12, 12])"
            ]
          },
          "metadata": {},
          "execution_count": 82
        }
      ]
    },
    {
      "cell_type": "code",
      "source": [
        "arr_slice[1]=12345\n",
        "arr_slice"
      ],
      "metadata": {
        "colab": {
          "base_uri": "https://localhost:8080/"
        },
        "id": "Exend8h9Bxq0",
        "outputId": "428bc4b6-1334-413b-9d16-998e7d6e3e96"
      },
      "execution_count": null,
      "outputs": [
        {
          "output_type": "execute_result",
          "data": {
            "text/plain": [
              "array([   12, 12345,    12])"
            ]
          },
          "metadata": {},
          "execution_count": 86
        }
      ]
    },
    {
      "cell_type": "code",
      "source": [
        "arr"
      ],
      "metadata": {
        "id": "fPu6GVR7CDWm",
        "outputId": "367436a9-6f95-4346-f353-e9068d025bad",
        "colab": {
          "base_uri": "https://localhost:8080/"
        }
      },
      "execution_count": null,
      "outputs": [
        {
          "output_type": "execute_result",
          "data": {
            "text/plain": [
              "array([    0,     1,     2,     3,     4,    12, 12345,    12,     8,\n",
              "           9])"
            ]
          },
          "metadata": {},
          "execution_count": 87
        }
      ]
    }
  ]
}